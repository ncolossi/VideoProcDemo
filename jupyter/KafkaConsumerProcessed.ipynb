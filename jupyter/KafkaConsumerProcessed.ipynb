{
 "cells": [
  {
   "cell_type": "markdown",
   "metadata": {},
   "source": [
    "# Listen to Kafka topic and reproduce processed video\n",
    "\n",
    "### Using kafka-python and OpenCV\n",
    "![kafka](http://www.godatafy.com/wp-content/uploads/2015/07/tech-apachekafka-logo.jpg) ![opencv](http://www.decom.ufop.br/imobilis/wp-content/uploads/2015/03/OpenCV_Logo.png) ![python](https://jsantanna.files.wordpress.com/2016/07/python-logo.png)"
   ]
  },
  {
   "cell_type": "code",
   "execution_count": 8,
   "metadata": {},
   "outputs": [],
   "source": [
    "# Import video, kafka and other libs\n",
    "from kafka import KafkaConsumer\n",
    "import numpy as np\n",
    "import cv2\n",
    "import pickle, base64, json\n",
    "from datetime import datetime, date, time"
   ]
  },
  {
   "cell_type": "code",
   "execution_count": 9,
   "metadata": {},
   "outputs": [],
   "source": [
    "# Setup kafka broker and topic\n",
    "kafkabrokers='wn0-kafka2.e4ix3a2tssaedkygl5ugloqjrb.cx.internal.cloudapp.net:9092'\n",
    "topic='camera-analytics-stream'\n",
    "cameraId=0\n",
    "\n",
    "# Subscribe to topic\n",
    "consumer = KafkaConsumer(bootstrap_servers=kafkabrokers, api_version=(0,10),\n",
    "                        value_deserializer=lambda v: json.loads(v.decode('utf-8')))\n",
    "consumer.subscribe([topic])"
   ]
  },
  {
   "cell_type": "code",
   "execution_count": 10,
   "metadata": {},
   "outputs": [
    {
     "name": "stdout",
     "output_type": "stream",
     "text": [
      "frame delay = 0:00:01.910615 / face count = 1"
     ]
    }
   ],
   "source": [
    "# Recreate video stream from camera with analytics on it\n",
    "for kafka_msg in consumer:\n",
    "    # get only the cameradId we want to watch\n",
    "    if(kafka_msg.value['cameraId'] == cameraId):\n",
    "        # Log delay from video frame taken and frame processed arrived\n",
    "        print('\\rframe delay =', datetime.utcnow()-datetime.strptime(str(kafka_msg.value['frameTS']), \"%Y-%m-%d %H:%M:%S.%f\"), end='')\n",
    "        print(' / face count =', kafka_msg.value['facesCount'], end='')\n",
    "\n",
    "        # Extract frame back from kafka message\n",
    "        frame = pickle.loads(base64.standard_b64decode(kafka_msg.value['frameB64'].encode('utf-8')))\n",
    "        # Show frames as they arrive\n",
    "        cv2.imshow('faces', frame)\n",
    "    # look for a signal to stop capturing video\n",
    "    if cv2.waitKey(5) & 0xFF == ord('q'):\n",
    "        cv2.destroyAllWindows()\n",
    "        break"
   ]
  },
  {
   "cell_type": "code",
   "execution_count": null,
   "metadata": {},
   "outputs": [],
   "source": []
  }
 ],
 "metadata": {
  "kernelspec": {
   "display_name": "Python 3",
   "language": "python",
   "name": "python3"
  },
  "language_info": {
   "codemirror_mode": {
    "name": "ipython",
    "version": 3
   },
   "file_extension": ".py",
   "mimetype": "text/x-python",
   "name": "python",
   "nbconvert_exporter": "python",
   "pygments_lexer": "ipython3",
   "version": "3.6.4"
  }
 },
 "nbformat": 4,
 "nbformat_minor": 2
}
