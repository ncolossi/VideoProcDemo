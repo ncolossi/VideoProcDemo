{
 "cells": [
  {
   "cell_type": "markdown",
   "metadata": {},
   "source": [
    "# Capture video and stream it to Kafka\n",
    "\n",
    "### Using OpenCV and kafka-python\n",
    "![opencv](http://www.decom.ufop.br/imobilis/wp-content/uploads/2015/03/OpenCV_Logo.png) ![kafka](http://www.godatafy.com/wp-content/uploads/2015/07/tech-apachekafka-logo.jpg) ![python](https://jsantanna.files.wordpress.com/2016/07/python-logo.png)"
   ]
  },
  {
   "cell_type": "code",
   "execution_count": 11,
   "metadata": {},
   "outputs": [],
   "source": [
    "# Import video, kafka and other libs\n",
    "from kafka import KafkaProducer\n",
    "import numpy as np\n",
    "import cv2\n",
    "import datetime, pickle, base64, json"
   ]
  },
  {
   "cell_type": "code",
   "execution_count": 12,
   "metadata": {},
   "outputs": [],
   "source": [
    "# Setup topic camera device \n",
    "kafkabrokers='wn0-kafka2.e4ix3a2tssaedkygl5ugloqjrb.cx.internal.cloudapp.net:9092'\n",
    "topic='camera-stream'\n",
    "cameraId=0\n",
    "\n",
    "# Create Kafka Producer\n",
    "producer = KafkaProducer(bootstrap_servers=kafkabrokers, api_version=(0,10),\n",
    "                         key_serializer=lambda k: k.encode('utf-8'),\n",
    "                         value_serializer=lambda v: json.dumps(v).encode('utf-8'))\n",
    "num_partitions = len(producer.partitions_for(topic))"
   ]
  },
  {
   "cell_type": "code",
   "execution_count": 13,
   "metadata": {},
   "outputs": [],
   "source": [
    "# Open Camera stream\n",
    "cap = cv2.VideoCapture(int(cameraId))\n",
    "lsec = datetime.datetime.utcnow().second ; fc = 0\n",
    "\n",
    "# Start capturing images and sending to Kafka\n",
    "while(cap.isOpened()):\n",
    "    # read frame and resize properly\n",
    "    ret, frame = cap.read()\n",
    "    frame = cv2.resize(frame, (0,0), fx=0.4, fy=0.4)\n",
    "    \n",
    "    # prepare message payload\n",
    "    msg_payload = {\n",
    "        'cameraId': cameraId,\n",
    "        'frameTS': str(datetime.datetime.utcnow()),\n",
    "        'frameB64': base64.standard_b64encode(pickle.dumps(frame)).decode(\"utf-8\")\n",
    "        }\n",
    "    \n",
    "    # send message to kafka and wait for frame to be delivered in Kafka\n",
    "    producer.send(topic, partition = cameraId%num_partitions, \n",
    "                  key = str(cameraId)+'|'+msg_payload['frameTS'], value = msg_payload)\n",
    "    producer.flush()\n",
    "    \n",
    "    # show image being captured and wait for key to stop capturing\n",
    "    cv2.imshow('camera', frame)\n",
    "    if cv2.waitKey(1) & 0xFF == ord('q'):\n",
    "        # close capturing and windows\n",
    "        cap.release()\n",
    "        cv2.destroyAllWindows()\n"
   ]
  },
  {
   "cell_type": "code",
   "execution_count": null,
   "metadata": {},
   "outputs": [],
   "source": []
  }
 ],
 "metadata": {
  "kernelspec": {
   "display_name": "Python 3",
   "language": "python",
   "name": "python3"
  },
  "language_info": {
   "codemirror_mode": {
    "name": "ipython",
    "version": 3
   },
   "file_extension": ".py",
   "mimetype": "text/x-python",
   "name": "python",
   "nbconvert_exporter": "python",
   "pygments_lexer": "ipython3",
   "version": "3.6.4"
  }
 },
 "nbformat": 4,
 "nbformat_minor": 2
}
